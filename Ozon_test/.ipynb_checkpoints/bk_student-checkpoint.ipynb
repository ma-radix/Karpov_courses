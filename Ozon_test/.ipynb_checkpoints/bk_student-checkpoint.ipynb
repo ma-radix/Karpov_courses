{
 "cells": [
  {
   "cell_type": "markdown",
   "metadata": {
    "id": "0mGUVfZUjY2Y"
   },
   "source": [
    "# Тестовое задание"
   ]
  },
  {
   "cell_type": "markdown",
   "metadata": {
    "id": "dYR_2fYPjY2c"
   },
   "source": [
    "В папке с заданием два датасета - data_orders - содержит выборку данных по заказам клиентов и включает такие колонки как:\n",
    "* order_datetime -  время заказа\n",
    "* order_gk - номер заказа\n",
    "* order_status_key - статус (4 - отменен клиентом, 9 - отменен системой (reject))\n",
    "* is_courier_assigned_key - был ли назначен курьер\n",
    "* cancellations_time_in_seconds - сколько секунд прошло до отмены\n",
    "\n",
    "data_offers - содержит пары номер заказа - ID оффера, который был предложен курьеру по данному заказу.\n"
   ]
  },
  {
   "cell_type": "markdown",
   "metadata": {
    "id": "Hdn3YAuLjY2c"
   },
   "source": [
    "В момент когда клиент нажимает на кнопку \"Заказать\" в приложении, система матчинга подыскивает наиболее релевантых курьеров и предлагаем им заказ. В задании предлагается исследовать некоторые метрики неудачных заказов"
   ]
  },
  {
   "cell_type": "markdown",
   "metadata": {
    "id": "tNMUT5xcjY2d"
   },
   "source": [
    "Задание является проверочным и не имеет ничего общего с реальной работой курьеров"
   ]
  },
  {
   "cell_type": "markdown",
   "metadata": {
    "id": "RK8YugFwjY2d"
   },
   "source": [
    "**0.** Подготовка данных, проверка выбросов, аномалий"
   ]
  },
  {
   "cell_type": "code",
   "execution_count": null,
   "metadata": {
    "id": "qIZQ5ZxbjY2d",
    "scrolled": true
   },
   "outputs": [],
   "source": [
    "## CODE HERE\n",
    "import numpy as np\n",
    "import pandas as pd\n",
    "import seaborn as sns\n",
    "import matplotlib.pyplot as plt\n",
    "%matplotlib inline"
   ]
  },
  {
   "cell_type": "code",
   "execution_count": null,
   "metadata": {
    "id": "Sv4IowLsjY2e"
   },
   "outputs": [],
   "source": [
    "#открываем файл data_orders и смотрим св-ва датасета\n",
    "#опишите основные статистики датасета и его особенности\n",
    "df_orders = pd.read_csv('data_orders.csv')\n",
    "#далее ваш код"
   ]
  },
  {
   "cell_type": "markdown",
   "metadata": {
    "id": "pjEFky0XjY2e"
   },
   "source": [
    "# Рекомендации базовые"
   ]
  },
  {
   "cell_type": "code",
   "execution_count": null,
   "metadata": {
    "id": "0CUDUhnCjY2f",
    "scrolled": true
   },
   "outputs": [],
   "source": [
    "#изучите датасеты и сформируйте рекомендации по улучшению бизнеса\n",
    "#все рекомендации отразите как ячейкой типа raw перед которым идет аналитический код с визуализацией и подтверждением вашей гипотезы\n",
    "#далее ваш код"
   ]
  },
  {
   "cell_type": "markdown",
   "metadata": {
    "id": "J7EsmTuzjY2f"
   },
   "source": [
    "# Рекомендации по конкретной задаче"
   ]
  },
  {
   "cell_type": "markdown",
   "metadata": {
    "id": "NwXb-rYNjY2f"
   },
   "source": [
    "Видим, что есть пустые значения в столбце с секундами до отмены"
   ]
  },
  {
   "cell_type": "code",
   "execution_count": null,
   "metadata": {
    "id": "4MTDlbZ5jY2f",
    "outputId": "dabc84c3-8789-48c3-e383-92dc7c5ff597"
   },
   "outputs": [
    {
     "data": {
      "text/plain": [
       "array([9])"
      ]
     },
     "execution_count": 5,
     "metadata": {},
     "output_type": "execute_result"
    }
   ],
   "source": [
    "#проверим при каком статусе есть пробелы\n",
    "df_orders.order_status_key.loc[df_orders.cancellations_time_in_seconds.isnull() == True].unique()"
   ]
  },
  {
   "cell_type": "markdown",
   "metadata": {
    "id": "_DI01NOqjY2g"
   },
   "source": [
    "Есть пробелы только при статусе  - 9 - отменен системой (reject))"
   ]
  },
  {
   "cell_type": "code",
   "execution_count": null,
   "metadata": {
    "id": "DxBUopTijY2g"
   },
   "outputs": [],
   "source": [
    "#открываем файл data_offers и смотрим св-ва датасета\n",
    "#опишите свойства датасета\n",
    "df_offers = pd.read_csv('data_offers.csv')\n",
    "#далее ваш код"
   ]
  },
  {
   "cell_type": "code",
   "execution_count": null,
   "metadata": {
    "id": "BS6Llx0yjY2g"
   },
   "outputs": [],
   "source": [
    "#проверим есть или выбросы (аномалии) во времени до отмены заказов, используя \"ящик с усами\" из библиотеки Seaborn,\n",
    "#отбросив строки с пустыми значениями\n",
    "#визуализируйте и опишите\n",
    "#далее ваш код"
   ]
  },
  {
   "cell_type": "markdown",
   "metadata": {
    "id": "MmehkxhajY2g"
   },
   "source": [
    "Видим, есть ли выбросы?"
   ]
  },
  {
   "cell_type": "markdown",
   "metadata": {
    "id": "EULIy37cjY2h"
   },
   "source": [
    "**1.** Для всех ли заказов нашлись офферы курьерам?"
   ]
  },
  {
   "cell_type": "code",
   "execution_count": null,
   "metadata": {
    "id": "-SeGFXHRjY2h"
   },
   "outputs": [],
   "source": [
    "#далее ваш код"
   ]
  },
  {
   "cell_type": "markdown",
   "metadata": {
    "id": "gjaClne6jY2h"
   },
   "source": [
    "**2.** Если нашлись такие заказы, на которых не назначены курьеры, то чего больше - отмен клиентом или реджектов системы?"
   ]
  },
  {
   "cell_type": "code",
   "execution_count": null,
   "metadata": {
    "id": "5ls8DboEjY2h"
   },
   "outputs": [],
   "source": [
    "#далее ваш код"
   ]
  },
  {
   "cell_type": "markdown",
   "metadata": {
    "id": "gnTl5bqAjY2h"
   },
   "source": [
    "**3.** Какова доля заказов с назначенным курьером среди заказов, отмененных системой?"
   ]
  },
  {
   "cell_type": "code",
   "execution_count": null,
   "metadata": {
    "id": "OX3TyTbAjY2h"
   },
   "outputs": [],
   "source": [
    "#далее ваш код"
   ]
  },
  {
   "cell_type": "markdown",
   "metadata": {
    "id": "4romqvCZjY2h"
   },
   "source": [
    "**4**. Получите среднее времени до отмены (cancellations_time_in_seconds) с назначенным курьером и без, по часам.  Можно ли сделать выводы по полученной таблице?\n",
    "Если необходимо - постройте график"
   ]
  },
  {
   "cell_type": "code",
   "execution_count": null,
   "metadata": {
    "id": "U4sBOdgzjY2h"
   },
   "outputs": [],
   "source": [
    "#далее ваш код"
   ]
  },
  {
   "cell_type": "markdown",
   "metadata": {
    "id": "c_PUrl9AjY2i"
   },
   "source": [
    "**5.** Постройте график распределения фейлов по часам - наблюдается ли тендеция, что в какие то часы доля той или иной категории аномально высока?"
   ]
  },
  {
   "cell_type": "code",
   "execution_count": null,
   "metadata": {
    "id": "DlOGb_-djY2i"
   },
   "outputs": [],
   "source": [
    "#далее ваш код"
   ]
  }
 ],
 "metadata": {
  "colab": {
   "provenance": []
  },
  "hide_input": false,
  "kernelspec": {
   "display_name": "Python 3",
   "language": "python",
   "name": "python3"
  },
  "language_info": {
   "codemirror_mode": {
    "name": "ipython",
    "version": 3
   },
   "file_extension": ".py",
   "mimetype": "text/x-python",
   "name": "python",
   "nbconvert_exporter": "python",
   "pygments_lexer": "ipython3",
   "version": "3.8.8"
  },
  "toc": {
   "base_numbering": 1,
   "nav_menu": {},
   "number_sections": true,
   "sideBar": true,
   "skip_h1_title": false,
   "title_cell": "Table of Contents",
   "title_sidebar": "Contents",
   "toc_cell": false,
   "toc_position": {},
   "toc_section_display": true,
   "toc_window_display": true
  },
  "varInspector": {
   "cols": {
    "lenName": 16,
    "lenType": 16,
    "lenVar": 40
   },
   "kernels_config": {
    "python": {
     "delete_cmd_postfix": "",
     "delete_cmd_prefix": "del ",
     "library": "var_list.py",
     "varRefreshCmd": "print(var_dic_list())"
    },
    "r": {
     "delete_cmd_postfix": ") ",
     "delete_cmd_prefix": "rm(",
     "library": "var_list.r",
     "varRefreshCmd": "cat(var_dic_list()) "
    }
   },
   "types_to_exclude": [
    "module",
    "function",
    "builtin_function_or_method",
    "instance",
    "_Feature"
   ],
   "window_display": false
  }
 },
 "nbformat": 4,
 "nbformat_minor": 0
}

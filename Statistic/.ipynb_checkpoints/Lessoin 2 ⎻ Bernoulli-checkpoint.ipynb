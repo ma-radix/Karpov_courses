{
 "cells": [
  {
   "cell_type": "code",
   "execution_count": 2,
   "metadata": {},
   "outputs": [],
   "source": [
    "from scipy import special #модуль питона, предназначенный для научных и инженерных расчетов\n",
    "\n",
    "# special.comb(n, k) - биномиальный коэффициент (или число сочетаний)\n",
    "\n",
    "\n",
    "#альтернативный вариант\n",
    "\n",
    "#from math import factorial\n",
    "\n",
    "#def num_of_successes(n, k):\n",
    "#    return factorial(n)/(factorial(k) * factorial(n - k))"
   ]
  },
  {
   "cell_type": "code",
   "execution_count": 10,
   "metadata": {},
   "outputs": [
    {
     "name": "stdout",
     "output_type": "stream",
     "text": [
      "0.2304\n"
     ]
    }
   ],
   "source": [
    "'''\n",
    "1. Устройство, состоящее из пяти независимо работающих элементов, включается за время Т. \n",
    "Вероятность отказа каждого из них за это время равна 0,4. \n",
    "Найти вероятность того, что откажут три элемента. Ответ округлите до четырёх знаков после запятой. \n",
    "В качестве десятичного разделителя используйте точку.\n",
    "'''\n",
    "n = 5 # Общее количество элементов\n",
    "k = 3 # Интересующее нас количество элементов\n",
    "p = 0.4 # Вероятность интересующего нас исхода для одного элемента\n",
    "q = 1-p # Вероятность НЕ интересующего нас исхода для одного элемента\n",
    "C = special.comb(n, k) # Число сочетаний\n",
    "P = (p**k)*(q**(n-k))*C #Общая вероятность\n",
    "print(round(P, 4)) #округление выводимого значения"
   ]
  },
  {
   "cell_type": "code",
   "execution_count": 18,
   "metadata": {},
   "outputs": [
    {
     "name": "stdout",
     "output_type": "stream",
     "text": [
      "0.922\n"
     ]
    }
   ],
   "source": [
    "'''\n",
    "2. Устройство, состоящее из пяти независимо работающих элементов, включается за время Т.\n",
    "Вероятность отказа каждого из них за это время равна 0,4.\n",
    "Найдите вероятность того, что хотя бы один элемент откажет.\n",
    "Ответ округлите до трёх знаков после запятой. В качестве десятичного разделителя используйте точку.\n",
    "'''\n",
    "\n",
    "n = 5\n",
    "k = 1 # Начальная позиция\n",
    "p = 0.4\n",
    "q = 1-p\n",
    "P = 0\n",
    "# Может отказать как только одно, так и всё пять\n",
    "for i in range(k, n+1):\n",
    "    C = special.comb(n, i)\n",
    "    P = P + (p**i)*(q**(n-i))*C\n",
    "print(round(P, 3))"
   ]
  },
  {
   "cell_type": "code",
   "execution_count": 20,
   "metadata": {},
   "outputs": [
    {
     "name": "stdout",
     "output_type": "stream",
     "text": [
      "0.745\n"
     ]
    }
   ],
   "source": [
    "'''\n",
    "3. Производится 8 выстрелов по цели, в каждом из которых вероятность попадания равна 0,3. \n",
    "Найти вероятность того, что цель будет поражена хотя бы два раза. \n",
    "Ответ округлите до тысячных. В качестве десятичного разделителя используйте точку.\n",
    "'''\n",
    "\n",
    "n = 8\n",
    "k = 2 # Начальная позиция\n",
    "p = 0.3\n",
    "q = 1-p\n",
    "P = 0\n",
    "\n",
    "for i in range(k, n+1):\n",
    "    C = special.comb(n, i)\n",
    "    P = P + (p**i)*(q**(n-i))*C\n",
    "print(round(P, 3))"
   ]
  },
  {
   "cell_type": "code",
   "execution_count": 21,
   "metadata": {},
   "outputs": [
    {
     "name": "stdout",
     "output_type": "stream",
     "text": [
      "0.42\n"
     ]
    }
   ],
   "source": [
    "'''\n",
    "4. В магазине 7 покупателей. Каждый может совершить покупку с вероятностью 0,4. \n",
    "Найти вероятность того, что не более двух человек совершат покупку. \n",
    "Ответ округлите до сотых. В качестве десятичного разделителя используйте точку.\n",
    "'''\n",
    "\n",
    "n = 7\n",
    "k = 2 # Конечная позиция\n",
    "p = 0.4\n",
    "q = 1-p\n",
    "P = 0\n",
    "\n",
    "for i in range(0, k+1):\n",
    "    C = special.comb(n, i)\n",
    "    P = P + (p**i)*(q**(n-i))*C\n",
    "print(round(P, 2))"
   ]
  },
  {
   "cell_type": "code",
   "execution_count": null,
   "metadata": {},
   "outputs": [],
   "source": []
  },
  {
   "cell_type": "code",
   "execution_count": null,
   "metadata": {},
   "outputs": [],
   "source": []
  },
  {
   "cell_type": "code",
   "execution_count": null,
   "metadata": {},
   "outputs": [],
   "source": []
  }
 ],
 "metadata": {
  "kernelspec": {
   "display_name": "Python 3",
   "language": "python",
   "name": "python3"
  },
  "language_info": {
   "codemirror_mode": {
    "name": "ipython",
    "version": 3
   },
   "file_extension": ".py",
   "mimetype": "text/x-python",
   "name": "python",
   "nbconvert_exporter": "python",
   "pygments_lexer": "ipython3",
   "version": "3.7.3"
  }
 },
 "nbformat": 4,
 "nbformat_minor": 4
}

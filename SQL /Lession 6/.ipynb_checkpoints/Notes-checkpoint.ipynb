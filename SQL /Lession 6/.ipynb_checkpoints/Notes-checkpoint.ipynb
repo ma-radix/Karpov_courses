{
 "cells": [
  {
   "cell_type": "code",
   "execution_count": 3,
   "metadata": {},
   "outputs": [],
   "source": [
    "import pandahouse as ph # библиотека для работы с SQL в питоне\n",
    "import pandas as pd"
   ]
  },
  {
   "cell_type": "code",
   "execution_count": 4,
   "metadata": {},
   "outputs": [],
   "source": [
    "connection_default = {'host':'https://clickhouse.lab.karpov.courses', # подключаемся к аккаунту обычному\n",
    "                     'database':'default',\n",
    "                     'user':'student',\n",
    "                     'password':'dpo_python_2020'}\n",
    "\n",
    "connection_test = dict(host = 'https://clickhouse.lab.karpov.courses', # подключаемся к аккаунту с правами на редактирование с создание таблиц\n",
    "                       database = 'test',\n",
    "                       user = 'student-rw',\n",
    "                       password = '656e2b0c9c')"
   ]
  },
  {
   "cell_type": "code",
   "execution_count": 6,
   "metadata": {
    "scrolled": false
   },
   "outputs": [
    {
     "data": {
      "text/html": [
       "<div>\n",
       "<style scoped>\n",
       "    .dataframe tbody tr th:only-of-type {\n",
       "        vertical-align: middle;\n",
       "    }\n",
       "\n",
       "    .dataframe tbody tr th {\n",
       "        vertical-align: top;\n",
       "    }\n",
       "\n",
       "    .dataframe thead th {\n",
       "        text-align: right;\n",
       "    }\n",
       "</style>\n",
       "<table border=\"1\" class=\"dataframe\">\n",
       "  <thead>\n",
       "    <tr style=\"text-align: right;\">\n",
       "      <th></th>\n",
       "      <th>Rub</th>\n",
       "      <th>BuyDate</th>\n",
       "      <th>UserID</th>\n",
       "    </tr>\n",
       "  </thead>\n",
       "  <tbody>\n",
       "    <tr>\n",
       "      <th>0</th>\n",
       "      <td>3</td>\n",
       "      <td>2019-10-04</td>\n",
       "      <td>18446583642950580515</td>\n",
       "    </tr>\n",
       "    <tr>\n",
       "      <th>1</th>\n",
       "      <td>4</td>\n",
       "      <td>2019-10-04</td>\n",
       "      <td>18446535622689003675</td>\n",
       "    </tr>\n",
       "    <tr>\n",
       "      <th>2</th>\n",
       "      <td>0</td>\n",
       "      <td>2019-10-04</td>\n",
       "      <td>18446130411954852964</td>\n",
       "    </tr>\n",
       "    <tr>\n",
       "      <th>3</th>\n",
       "      <td>3</td>\n",
       "      <td>2019-10-04</td>\n",
       "      <td>18446003252714243011</td>\n",
       "    </tr>\n",
       "    <tr>\n",
       "      <th>4</th>\n",
       "      <td>8</td>\n",
       "      <td>2019-10-04</td>\n",
       "      <td>18445948434655311802</td>\n",
       "    </tr>\n",
       "    <tr>\n",
       "      <th>5</th>\n",
       "      <td>17</td>\n",
       "      <td>2019-10-04</td>\n",
       "      <td>18445927732647659917</td>\n",
       "    </tr>\n",
       "    <tr>\n",
       "      <th>6</th>\n",
       "      <td>2</td>\n",
       "      <td>2019-10-04</td>\n",
       "      <td>18445761122620052505</td>\n",
       "    </tr>\n",
       "    <tr>\n",
       "      <th>7</th>\n",
       "      <td>15</td>\n",
       "      <td>2019-10-04</td>\n",
       "      <td>18445655133428855896</td>\n",
       "    </tr>\n",
       "    <tr>\n",
       "      <th>8</th>\n",
       "      <td>1</td>\n",
       "      <td>2019-10-04</td>\n",
       "      <td>18445587876544434519</td>\n",
       "    </tr>\n",
       "    <tr>\n",
       "      <th>9</th>\n",
       "      <td>1</td>\n",
       "      <td>2019-10-04</td>\n",
       "      <td>18445586451093345117</td>\n",
       "    </tr>\n",
       "  </tbody>\n",
       "</table>\n",
       "</div>"
      ],
      "text/plain": [
       "   Rub     BuyDate                UserID\n",
       "0    3  2019-10-04  18446583642950580515\n",
       "1    4  2019-10-04  18446535622689003675\n",
       "2    0  2019-10-04  18446130411954852964\n",
       "3    3  2019-10-04  18446003252714243011\n",
       "4    8  2019-10-04  18445948434655311802\n",
       "5   17  2019-10-04  18445927732647659917\n",
       "6    2  2019-10-04  18445761122620052505\n",
       "7   15  2019-10-04  18445655133428855896\n",
       "8    1  2019-10-04  18445587876544434519\n",
       "9    1  2019-10-04  18445586451093345117"
      ]
     },
     "execution_count": 6,
     "metadata": {},
     "output_type": "execute_result"
    }
   ],
   "source": [
    "q_read = '''\n",
    "    SELECT *\n",
    "    FROM {db}.checks \n",
    "    LIMIT 10\n",
    "    '''\n",
    "# db автоматически заменится за значение database\n",
    "\n",
    "q_test = ph.read_clickhouse(query = q_read, connection = connection_default)# отправляем запрос по выбранному соеденению и записываем его в пандасовский датафрейм\n",
    "q_test # выводим созданный датафрейм"
   ]
  },
  {
   "cell_type": "code",
   "execution_count": 16,
   "metadata": {},
   "outputs": [
    {
     "data": {
      "text/plain": [
       "b''"
      ]
     },
     "execution_count": 16,
     "metadata": {},
     "output_type": "execute_result"
    }
   ],
   "source": [
    "q_create = '''\n",
    "    CREATE TABLE test.example_table_mary (\n",
    "        Rub UInt32,\n",
    "        BuyDate String,\n",
    "        UserID UInt32\n",
    "    ) \n",
    "    ENGINE = MergeTree \n",
    "    ORDER BY (Rub, BuyDate)\n",
    "    '''\n",
    "# создаём таблицу через второй аккаунт\n",
    "\n",
    "ph.execute(query = q_create, connection = connection_test) \n",
    "# отправляем запрос по выбранному соеденению. (b'') - видимо, код удачной операции:)"
   ]
  },
  {
   "cell_type": "code",
   "execution_count": 17,
   "metadata": {},
   "outputs": [
    {
     "data": {
      "text/plain": [
       "10"
      ]
     },
     "execution_count": 17,
     "metadata": {},
     "output_type": "execute_result"
    }
   ],
   "source": [
    "df_in = q_test\n",
    "ph.to_clickhouse(df_in, 'example_table_mary', index = False, connection = connection_test)\n",
    "# записываем данные из пандаса в кликхаус в уже созданную таблицу \n",
    "# в аутпуте покажется количество записанных строк "
   ]
  },
  {
   "cell_type": "code",
   "execution_count": 18,
   "metadata": {},
   "outputs": [
    {
     "data": {
      "text/html": [
       "<div>\n",
       "<style scoped>\n",
       "    .dataframe tbody tr th:only-of-type {\n",
       "        vertical-align: middle;\n",
       "    }\n",
       "\n",
       "    .dataframe tbody tr th {\n",
       "        vertical-align: top;\n",
       "    }\n",
       "\n",
       "    .dataframe thead th {\n",
       "        text-align: right;\n",
       "    }\n",
       "</style>\n",
       "<table border=\"1\" class=\"dataframe\">\n",
       "  <thead>\n",
       "    <tr style=\"text-align: right;\">\n",
       "      <th></th>\n",
       "      <th>Rub</th>\n",
       "      <th>BuyDate</th>\n",
       "      <th>UserID</th>\n",
       "    </tr>\n",
       "  </thead>\n",
       "  <tbody>\n",
       "    <tr>\n",
       "      <th>0</th>\n",
       "      <td>0</td>\n",
       "      <td>2019-10-04</td>\n",
       "      <td>3172553828</td>\n",
       "    </tr>\n",
       "    <tr>\n",
       "      <th>1</th>\n",
       "      <td>1</td>\n",
       "      <td>2019-10-04</td>\n",
       "      <td>3735998807</td>\n",
       "    </tr>\n",
       "    <tr>\n",
       "      <th>2</th>\n",
       "      <td>1</td>\n",
       "      <td>2019-10-04</td>\n",
       "      <td>4214051677</td>\n",
       "    </tr>\n",
       "    <tr>\n",
       "      <th>3</th>\n",
       "      <td>2</td>\n",
       "      <td>2019-10-04</td>\n",
       "      <td>3715798041</td>\n",
       "    </tr>\n",
       "    <tr>\n",
       "      <th>4</th>\n",
       "      <td>3</td>\n",
       "      <td>2019-10-04</td>\n",
       "      <td>3449403683</td>\n",
       "    </tr>\n",
       "    <tr>\n",
       "      <th>5</th>\n",
       "      <td>3</td>\n",
       "      <td>2019-10-04</td>\n",
       "      <td>733709251</td>\n",
       "    </tr>\n",
       "    <tr>\n",
       "      <th>6</th>\n",
       "      <td>4</td>\n",
       "      <td>2019-10-04</td>\n",
       "      <td>922196123</td>\n",
       "    </tr>\n",
       "    <tr>\n",
       "      <th>7</th>\n",
       "      <td>8</td>\n",
       "      <td>2019-10-04</td>\n",
       "      <td>3637344186</td>\n",
       "    </tr>\n",
       "    <tr>\n",
       "      <th>8</th>\n",
       "      <td>15</td>\n",
       "      <td>2019-10-04</td>\n",
       "      <td>1432564824</td>\n",
       "    </tr>\n",
       "    <tr>\n",
       "      <th>9</th>\n",
       "      <td>17</td>\n",
       "      <td>2019-10-04</td>\n",
       "      <td>3372059021</td>\n",
       "    </tr>\n",
       "  </tbody>\n",
       "</table>\n",
       "</div>"
      ],
      "text/plain": [
       "   Rub     BuyDate      UserID\n",
       "0    0  2019-10-04  3172553828\n",
       "1    1  2019-10-04  3735998807\n",
       "2    1  2019-10-04  4214051677\n",
       "3    2  2019-10-04  3715798041\n",
       "4    3  2019-10-04  3449403683\n",
       "5    3  2019-10-04   733709251\n",
       "6    4  2019-10-04   922196123\n",
       "7    8  2019-10-04  3637344186\n",
       "8   15  2019-10-04  1432564824\n",
       "9   17  2019-10-04  3372059021"
      ]
     },
     "execution_count": 18,
     "metadata": {},
     "output_type": "execute_result"
    }
   ],
   "source": [
    "# проверяем, что всё записалось\n",
    "query_test = '''\n",
    "    SELECT *\n",
    "    FROM test.example_table_mary\n",
    "    LIMIT 100\n",
    "    '''\n",
    "df_new = ph.read_clickhouse(query_test, connection = connection_test)\n",
    "df_new"
   ]
  }
 ],
 "metadata": {
  "kernelspec": {
   "display_name": "Python 3",
   "language": "python",
   "name": "python3"
  },
  "language_info": {
   "codemirror_mode": {
    "name": "ipython",
    "version": 3
   },
   "file_extension": ".py",
   "mimetype": "text/x-python",
   "name": "python",
   "nbconvert_exporter": "python",
   "pygments_lexer": "ipython3",
   "version": "3.7.3"
  }
 },
 "nbformat": 4,
 "nbformat_minor": 4
}

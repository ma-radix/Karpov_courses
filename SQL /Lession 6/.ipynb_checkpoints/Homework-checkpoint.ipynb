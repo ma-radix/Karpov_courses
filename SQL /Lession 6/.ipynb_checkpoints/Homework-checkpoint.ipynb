{
 "cells": [
  {
   "cell_type": "code",
   "execution_count": 1,
   "metadata": {},
   "outputs": [],
   "source": [
    "# подготовка к домашке урока 6:))\n",
    "import pandahouse as ph # библиотека для работы с SQL в питоне\n",
    "import pandas as pd\n",
    "import numpy as np\n",
    "import seaborn as sns"
   ]
  },
  {
   "cell_type": "code",
   "execution_count": 2,
   "metadata": {},
   "outputs": [],
   "source": [
    "connection_default = {'host':'https://clickhouse.lab.karpov.courses', # подключаемся к аккаунту обычному\n",
    "                     'database':'default',\n",
    "                     'user':'student',\n",
    "                     'password':'dpo_python_2020'}\n",
    "\n",
    "connection_test = dict(host = 'https://clickhouse.lab.karpov.courses', # подключаемся к аккаунту с правами на редактирование с создание таблиц\n",
    "                       database = 'test',\n",
    "                       user = 'student-rw',\n",
    "                       password = '656e2b0c9c')"
   ]
  },
  {
   "cell_type": "code",
   "execution_count": 7,
   "metadata": {},
   "outputs": [
    {
     "data": {
      "text/html": [
       "<div>\n",
       "<style scoped>\n",
       "    .dataframe tbody tr th:only-of-type {\n",
       "        vertical-align: middle;\n",
       "    }\n",
       "\n",
       "    .dataframe tbody tr th {\n",
       "        vertical-align: top;\n",
       "    }\n",
       "\n",
       "    .dataframe thead th {\n",
       "        text-align: right;\n",
       "    }\n",
       "</style>\n",
       "<table border=\"1\" class=\"dataframe\">\n",
       "  <thead>\n",
       "    <tr style=\"text-align: right;\">\n",
       "      <th></th>\n",
       "      <th>count()</th>\n",
       "    </tr>\n",
       "  </thead>\n",
       "  <tbody>\n",
       "    <tr>\n",
       "      <th>0</th>\n",
       "      <td>85207</td>\n",
       "    </tr>\n",
       "  </tbody>\n",
       "</table>\n",
       "</div>"
      ],
      "text/plain": [
       "   count()\n",
       "0    85207"
      ]
     },
     "execution_count": 7,
     "metadata": {},
     "output_type": "execute_result"
    }
   ],
   "source": [
    "# смотрим количество строк в таблице -- 6.2\n",
    "q_check_read = '''\n",
    "    SELECT count()\n",
    "    FROM {db}.ldn_listings\n",
    "    '''\n",
    "q_check = ph.read_clickhouse(query = q_check_read, connection = connection_default)\n",
    "q_check"
   ]
  },
  {
   "cell_type": "code",
   "execution_count": 19,
   "metadata": {},
   "outputs": [
    {
     "data": {
      "text/html": [
       "<div>\n",
       "<style scoped>\n",
       "    .dataframe tbody tr th:only-of-type {\n",
       "        vertical-align: middle;\n",
       "    }\n",
       "\n",
       "    .dataframe tbody tr th {\n",
       "        vertical-align: top;\n",
       "    }\n",
       "\n",
       "    .dataframe thead th {\n",
       "        text-align: right;\n",
       "    }\n",
       "</style>\n",
       "<table border=\"1\" class=\"dataframe\">\n",
       "  <thead>\n",
       "    <tr style=\"text-align: right;\">\n",
       "      <th></th>\n",
       "      <th>room_type</th>\n",
       "      <th>price</th>\n",
       "    </tr>\n",
       "  </thead>\n",
       "  <tbody>\n",
       "    <tr>\n",
       "      <th>0</th>\n",
       "      <td>Entire home/apt</td>\n",
       "      <td>160.00</td>\n",
       "    </tr>\n",
       "    <tr>\n",
       "      <th>1</th>\n",
       "      <td>Hotel room</td>\n",
       "      <td>157.00</td>\n",
       "    </tr>\n",
       "    <tr>\n",
       "      <th>2</th>\n",
       "      <td>Private room</td>\n",
       "      <td>70.00</td>\n",
       "    </tr>\n",
       "    <tr>\n",
       "      <th>3</th>\n",
       "      <td>Shared room</td>\n",
       "      <td>69.25</td>\n",
       "    </tr>\n",
       "  </tbody>\n",
       "</table>\n",
       "</div>"
      ],
      "text/plain": [
       "         room_type   price\n",
       "0  Entire home/apt  160.00\n",
       "1       Hotel room  157.00\n",
       "2     Private room   70.00\n",
       "3      Shared room   69.25"
      ]
     },
     "execution_count": 19,
     "metadata": {},
     "output_type": "execute_result"
    }
   ],
   "source": [
    "# выгружаем из таблицы данные о цене в зависимости от типа жилья -- 6.3\n",
    "q_price_of_room_type_read = '''\n",
    "    SELECT \n",
    "        toFloat32OrNull(replaceRegexpAll(price, '[$,]', '')) AS price, -- грёбанные кавычки в паттерне!:(\n",
    "        room_type\n",
    "    FROM {db}.ldn_listings\n",
    "    ORDER BY id ASC\n",
    "    LIMIT 1000\n",
    "    '''\n",
    "q_price_of_room_type = ph.read_clickhouse(query = q_price_of_room_type_read, connection = connection_default)\n",
    "# считаем 75-й перцентиль для каждого типа комнат и выводим \n",
    "q_75 = q_price_of_room_type \\\n",
    "    .groupby(by=['room_type'], as_index=False) \\\n",
    "    .quantile(q = 0.75)\n",
    "q_75"
   ]
  },
  {
   "cell_type": "code",
   "execution_count": 29,
   "metadata": {},
   "outputs": [
    {
     "data": {
      "text/plain": [
       "<matplotlib.axes._subplots.AxesSubplot at 0x7f3aa894c860>"
      ]
     },
     "execution_count": 29,
     "metadata": {},
     "output_type": "execute_result"
    },
    {
     "data": {
      "image/png": "[encoded data removed]",
      "text/plain": [
       "<Figure size 432x288 with 1 Axes>"
      ]
     },
     "metadata": {
      "needs_background": "light"
     },
     "output_type": "display_data"
    }
   ],
   "source": [
    "# строим график рассеивания, показывающий зависимость средней оценки от средней цены по типу жилья -- 6.4\n",
    "q_plus_rating_read = '''\n",
    "    SELECT \n",
    "        room_type,\n",
    "        toFloat32OrNull(replaceRegexpAll(price, '[$,]', '')) AS price,\n",
    "        toFloat32OrNull(review_scores_rating) AS rating\n",
    "    FROM {db}.ldn_listings\n",
    "    WHERE review_scores_rating != ''\n",
    "    LIMIT 1000\n",
    "    '''\n",
    "q_plus_rating = ph.read_clickhouse(query = q_plus_rating_read, connection = connection_default)\n",
    "# группируем по типу жилья и считаем среднее для цены и рейтинга\n",
    "q_means = q_plus_rating.groupby(by=['room_type'], as_index=False)[['price','rating']].agg('mean')\n",
    "sns.scatterplot(data=q_means, x=\"price\", y=\"rating\", hue=\"room_type\")"
   ]
  },
  {
   "cell_type": "code",
   "execution_count": 72,
   "metadata": {},
   "outputs": [
    {
     "data": {
      "text/plain": [
       "phone                    1361\n",
       "email                    1345\n",
       "reviews                  1309\n",
       "government_id            1196\n",
       "jumio                    1115\n",
       "offline_government_id     469\n",
       "work_email                279\n",
       "facebook                  270\n",
       "selfie                    252\n",
       "identity_manual           227\n",
       "manual_offline             70\n",
       "google                     34\n",
       "kba                        27\n",
       "manual_online              16\n",
       "sent_id                     6\n",
       "Name: host_verifications, dtype: int64"
      ]
     },
     "execution_count": 72,
     "metadata": {},
     "output_type": "execute_result"
    }
   ],
   "source": [
    "# Проверяем, какие способы подтверждения аккаунта использовали хозяева, предлагающие \"впечатления\" -- 6.5\n",
    "q_experience_read = '''\n",
    "    SELECT \n",
    "        DISTINCT host_id,\n",
    "        host_verifications\n",
    "    FROM {db}.ldn_listings\n",
    "    WHERE experiences_offered != 'none'\n",
    "    '''\n",
    "q_experience = ph.read_clickhouse(query = q_experience_read, connection = connection_default)\n",
    "# Считаем, сколько раз встречался каждый способ верификации\n",
    "\n",
    "# Обрабатываем столбец -- заменяем строковое представление списка на список строк \n",
    "q_experience['host_verifications'] = q_experience['host_verifications'] \\\n",
    "    .apply(lambda x: x.strip('\"[] ')) \\\n",
    "    .apply(lambda c: c.replace(\"'\", \"\")) \\\n",
    "    .apply(lambda y: y.split(', '))\n",
    "\n",
    "# если применять explode к столбцу - подучается какая-то дичь:(\n",
    "q_experience_values = q_experience \\\n",
    "    .explode('host_verifications') \\\n",
    "    ['host_verifications'].value_counts()\n",
    "q_experience_values"
   ]
  },
  {
   "cell_type": "code",
   "execution_count": null,
   "metadata": {},
   "outputs": [],
   "source": []
  },
  {
   "cell_type": "code",
   "execution_count": null,
   "metadata": {},
   "outputs": [],
   "source": []
  }
 ],
 "metadata": {
  "kernelspec": {
   "display_name": "Python 3",
   "language": "python",
   "name": "python3"
  },
  "language_info": {
   "codemirror_mode": {
    "name": "ipython",
    "version": 3
   },
   "file_extension": ".py",
   "mimetype": "text/x-python",
   "name": "python",
   "nbconvert_exporter": "python",
   "pygments_lexer": "ipython3",
   "version": "3.7.3"
  }
 },
 "nbformat": 4,
 "nbformat_minor": 4
}
